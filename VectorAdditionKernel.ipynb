{
  "nbformat": 4,
  "nbformat_minor": 0,
  "metadata": {
    "colab": {
      "provenance": [],
      "gpuType": "T4"
    },
    "kernelspec": {
      "name": "python3",
      "display_name": "Python 3"
    },
    "language_info": {
      "name": "python"
    },
    "accelerator": "GPU"
  },
  "cells": [
    {
      "cell_type": "code",
      "source": [
        "%%writefile vectoradd.cu\n",
        "\n",
        "#include<stdio.h>\n",
        "#include<cuda.h>\n",
        "#include<math.h>\n",
        "\n",
        "__global__\n",
        "void vecAddKernel(float *a, float *b, float *c, int n)\n",
        "{\n",
        "    int i = blockIdx.x * blockDim.x + threadIdx.x;\n",
        "    if(i < n)\n",
        "    {\n",
        "        c[i] = a[i] + b[i];\n",
        "    }\n",
        "}\n",
        "\n",
        "void vecAdd(float *a, float *b, float *c, int n){\n",
        "    int size = n * sizeof(float);\n",
        "    float *a_dev, *b_dev, *c_dev;\n",
        "    cudaError_t err_a = cudaMalloc((void **)&a_dev, size);\n",
        "    cudaError_t err_b = cudaMalloc((void **)&b_dev, size);\n",
        "    cudaError_t err_c = cudaMalloc((void **)&c_dev, size);\n",
        "    if(err_a != cudaSuccess || err_b != cudaSuccess || err_c != cudaSuccess)\n",
        "    {\n",
        "        printf(\"Memory allocation failed\\n\");\n",
        "        exit(EXIT_FAILURE);\n",
        "    }\n",
        "    cudaError_t cpy_a = cudaMemcpy(a_dev, a, size, cudaMemcpyHostToDevice);\n",
        "    cudaError_t cpy_b = cudaMemcpy(b_dev, b, size, cudaMemcpyHostToDevice);\n",
        "    if(cpy_a != cudaSuccess || cpy_b != cudaSuccess)\n",
        "    {\n",
        "        printf(\"Memory copy from host to device failed\\n\");\n",
        "        exit(EXIT_FAILURE);\n",
        "    }\n",
        "    dim3 block(256);\n",
        "    dim3 grid(ceil(n/256.0));\n",
        "    vecAddKernel<<<grid,block>>>(a_dev, b_dev, c_dev, n);\n",
        "    cudaError_t cpy_c = cudaMemcpy(c, c_dev, size, cudaMemcpyDeviceToHost);\n",
        "    if(cpy_c != cudaSuccess)\n",
        "    {\n",
        "        printf(\"Memory copy from device to host failed\\n\");\n",
        "        exit(EXIT_FAILURE);\n",
        "    }\n",
        "    cudaFree(a_dev);\n",
        "    cudaFree(b_dev);\n",
        "    cudaFree(c_dev);\n",
        "}\n",
        "\n",
        "int main(int argc,char **argv)\n",
        "{\n",
        "    float *a, *b, *c;\n",
        "    int n = 5000;\n",
        "    a = (float *)malloc(n * sizeof(float));\n",
        "    b = (float *)malloc(n * sizeof(float));\n",
        "    c = (float *)malloc(n * sizeof(float));\n",
        "    for(int i = 0; i < n; i++)\n",
        "    {\n",
        "        a[i] = 1.0f;\n",
        "        b[i] = 2.0f;\n",
        "    }\n",
        "    vecAdd(a, b, c, n);\n",
        "    for(int i = 0; i < 10; i++)\n",
        "    {\n",
        "        printf(\"%f + %f = %f\\n\", a[i], b[i], c[i]);\n",
        "    }\n",
        "    free(a);\n",
        "    free(b);\n",
        "    free(c);\n",
        "    return 0;\n",
        "}"
      ],
      "metadata": {
        "colab": {
          "base_uri": "https://localhost:8080/"
        },
        "id": "mgSN70ARA390",
        "outputId": "4ff5f882-c6af-4073-e979-ad236260a15f"
      },
      "execution_count": 2,
      "outputs": [
        {
          "output_type": "stream",
          "name": "stdout",
          "text": [
            "Overwriting vectoradd.cu\n"
          ]
        }
      ]
    },
    {
      "cell_type": "code",
      "source": [
        "!nvcc -arch=sm_75 -gencode=arch=compute_75,code=sm_75 vectoradd.cu -o vectoradd"
      ],
      "metadata": {
        "id": "l57TrS5eEGdD"
      },
      "execution_count": 3,
      "outputs": []
    },
    {
      "cell_type": "code",
      "source": [
        "!./vectoradd"
      ],
      "metadata": {
        "colab": {
          "base_uri": "https://localhost:8080/"
        },
        "id": "QP11b10YEc9T",
        "outputId": "f6b3ff00-e932-405a-f26e-36a98ecd32fb"
      },
      "execution_count": 4,
      "outputs": [
        {
          "output_type": "stream",
          "name": "stdout",
          "text": [
            "1.000000 + 2.000000 = 3.000000\n",
            "1.000000 + 2.000000 = 3.000000\n",
            "1.000000 + 2.000000 = 3.000000\n",
            "1.000000 + 2.000000 = 3.000000\n",
            "1.000000 + 2.000000 = 3.000000\n",
            "1.000000 + 2.000000 = 3.000000\n",
            "1.000000 + 2.000000 = 3.000000\n",
            "1.000000 + 2.000000 = 3.000000\n",
            "1.000000 + 2.000000 = 3.000000\n",
            "1.000000 + 2.000000 = 3.000000\n"
          ]
        }
      ]
    }
  ]
}